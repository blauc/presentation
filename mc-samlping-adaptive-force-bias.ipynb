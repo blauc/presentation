{
 "cells": [
  {
   "cell_type": "markdown",
   "metadata": {},
   "source": [
    "\n",
    "\n",
    " * add bias potential\n",
    " * perform MC sampling, particle in potential with adaptive force scaling\n",
    "   * keep track of added bias potential at each position"
   ]
  },
  {
   "cell_type": "code",
   "execution_count": null,
   "metadata": {},
   "outputs": [],
   "source": [
    "import numpy as np\n",
    "from scipy import signal\n",
    "import matplotlib.pyplot as plt\n",
    "import random\n",
    "import math\n",
    "import seaborn as sns"
   ]
  },
  {
   "cell_type": "markdown",
   "metadata": {},
   "source": [
    "# generate reasonable potential landscape\n",
    "\n",
    "* DFT random numbers, filter with Gaussian"
   ]
  },
  {
   "cell_type": "code",
   "execution_count": null,
   "metadata": {},
   "outputs": [],
   "source": [
    "length = 500\n",
    "randomF = np.random.rand(length) * signal.gaussian(2*length, std=length/10)[length:]\n",
    "completeFourier = np.concatenate([randomF])\n",
    "energy = np.abs(np.square(np.fft.rfft(completeFourier)[length//10:]))"
   ]
  },
  {
   "cell_type": "markdown",
   "metadata": {},
   "source": [
    "# MC sampling in landscape"
   ]
  },
  {
   "cell_type": "code",
   "execution_count": null,
   "metadata": {},
   "outputs": [],
   "source": [
    "def new_position(energy, position, bias):\n",
    "    direction = 2 * random.randint(0, 1) - 1\n",
    "\n",
    "    # reflective walls\n",
    "    if (position+direction < 0) or (position+direction >= len(energy)):\n",
    "        direction = -direction\n",
    "\n",
    "    energyChange = energy[position+direction] - energy[position] + direction * bias\n",
    "    if energyChange < 0:\n",
    "        return position + direction\n",
    "    if random.random() < math.exp(-energyChange):\n",
    "        return position + direction\n",
    "    else:\n",
    "        return position\n",
    "    \n",
    "def MCSamplingWithAdaptiveForceScaling(n_steps, energy):\n",
    "    bias = -0.1\n",
    "    \n",
    "    timeconstant = 10\n",
    "    inverseTimeConstant = 1/timeconstant\n",
    "    \n",
    "    weightedSum = 0.\n",
    "    weightedCount = 0.\n",
    "    \n",
    "    position = 0\n",
    "    result = [math.nan] * n_steps\n",
    "    \n",
    "    biases = [math.nan] * n_steps\n",
    "    biasSum = [0] * len(energy)\n",
    "    count = [0] * len(energy)\n",
    "    \n",
    "    for step in range(n_steps):\n",
    "        \n",
    "        position = new_position(energy, position, bias)\n",
    "        result[step] = position\n",
    "        \n",
    "        weightedSum  = position + (1 - inverseTimeConstant) * weightedSum\n",
    "        weightedCount = 1 + (1 - inverseTimeConstant) * weightedCount\n",
    "        biases[step] = bias\n",
    "        biasSum[position] += bias\n",
    "        count[position] += 1\n",
    "        if (position * weightedCount > weightedSum):\n",
    "            bias /= 1. + inverseTimeConstant\n",
    "        else:\n",
    "            bias *= 1. + 2 * inverseTimeConstant\n",
    "        \n",
    "        if (position==len(energy)-1):\n",
    "            break\n",
    "            \n",
    "    averageBias = [b/c if c>0 else 0 for b,c in zip(biasSum, count) ]\n",
    "    return result[:step], biases[:step], averageBias, step\n",
    "\n",
    "\n",
    "def MCSamplingWithBias(n_steps, energy, bias):\n",
    "\n",
    "    position = 0\n",
    "    result = [math.nan] * n_steps\n",
    "    \n",
    "    for step in range(n_steps):\n",
    "        \n",
    "        position = new_position(energy, position, bias)\n",
    "        result[step] = position\n",
    "        \n",
    "        if (position==len(energy)-1):\n",
    "            break\n",
    "    \n",
    "    return result[:step], step"
   ]
  },
  {
   "cell_type": "code",
   "execution_count": null,
   "metadata": {},
   "outputs": [],
   "source": [
    "repeats = 1000\n",
    "mfpt = [0] * repeats\n",
    "averageBias = [None] * repeats\n",
    "for repeat in range(repeats):\n",
    "    positions,biases, averageBias[repeat], mfpt[repeat] = MCSamplingWithAdaptiveForceScaling(10000,energy)\n",
    "meanAdaptive = np.mean(mfpt)\n",
    "stdAdaptive = np.std(mfpt)\n",
    "print(meanAdaptive)"
   ]
  },
  {
   "cell_type": "code",
   "execution_count": null,
   "metadata": {},
   "outputs": [],
   "source": [
    "repeats = 1000\n",
    "mfptFixedForce = [0] * repeats\n",
    "for repeat in range(repeats):\n",
    "    positions, mfptFixedForce[repeat] = MCSamplingWithBias(10000,energy,-1.675)\n",
    "meanFixed = np.mean(mfptFixedForce)\n",
    "stdFixed = np.std(mfptFixedForce)\n",
    "print(meanFixed)"
   ]
  },
  {
   "cell_type": "code",
   "execution_count": null,
   "metadata": {},
   "outputs": [],
   "source": [
    "sns.set_context('poster')\n",
    "sns.set_style('ticks')\n",
    "fig,ax = plt.subplots(figsize=(20,10))\n",
    "ax.plot(energy,'k')\n",
    "\n",
    "metaBias = np.mean(averageBias, axis=0)\n",
    "pmfWithAdaptiveForce = energy+np.cumsum(metaBias)\n",
    "ax.plot(pmfWithAdaptiveForce,color = '#991111')\n",
    "\n",
    "constantBias = np.arange(0,len(energy)) * -1.675\n",
    "ax.plot(energy+constantBias,color = '#222299')\n",
    "\n",
    "fig.savefig('pmfwithbias.svg')\n",
    "sns.despine(offset=10)"
   ]
  },
  {
   "cell_type": "markdown",
   "metadata": {},
   "source": [
    "# Animation"
   ]
  },
  {
   "cell_type": "code",
   "execution_count": null,
   "metadata": {},
   "outputs": [],
   "source": [
    "%matplotlib"
   ]
  },
  {
   "cell_type": "code",
   "execution_count": null,
   "metadata": {},
   "outputs": [],
   "source": [
    "import numpy as np\n",
    "from matplotlib import pyplot as plt\n",
    "from matplotlib import animation\n",
    "\n",
    "# First set up the figure, the axis, and the plot element we want to animate\n",
    "fig, ax = plt.subplots()\n",
    "ax.plot(energy)\n",
    "\n",
    "line, = ax.plot([], [], '.', ms=20)\n",
    "\n",
    "# animation function.  This is called sequentially\n",
    "def animate(i):\n",
    "    x = positions[i]\n",
    "    y=energy[x]\n",
    "    line.set_data(x, y)\n",
    "    return line,\n",
    "\n",
    "# call the animator.  blit=True means only re-draw the parts that have changed.\n",
    "anim = animation.FuncAnimation(fig, animate, frames=len(positions), interval=20)\n",
    "\n",
    "# save the animation as an mp4.  This requires ffmpeg or mencoder to be\n",
    "# installed.  The extra_args ensure that the x264 codec is used, so that\n",
    "# the video can be embedded in html5.  You may need to adjust this for\n",
    "# your system: for more information, see\n",
    "# http://matplotlib.sourceforge.net/api/animation_api.html\n",
    "# anim.save('basic_animation.mp4', fps=30, extra_args=['-vcodec', 'libx264'])\n",
    "anim.save('animation.gif', writer='imagemagick', fps=60)\n",
    "plt.show()"
   ]
  },
  {
   "cell_type": "code",
   "execution_count": null,
   "metadata": {},
   "outputs": [],
   "source": []
  }
 ],
 "metadata": {
  "kernelspec": {
   "display_name": "Python 3",
   "language": "python",
   "name": "python3"
  },
  "language_info": {
   "codemirror_mode": {
    "name": "ipython",
    "version": 3
   },
   "file_extension": ".py",
   "mimetype": "text/x-python",
   "name": "python",
   "nbconvert_exporter": "python",
   "pygments_lexer": "ipython3",
   "version": "3.8.5"
  }
 },
 "nbformat": 4,
 "nbformat_minor": 4
}
